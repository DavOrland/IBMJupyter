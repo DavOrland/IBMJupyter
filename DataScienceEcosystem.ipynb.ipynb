{
 "cells": [
  {
   "cell_type": "markdown",
   "id": "7b0a40d9-53d1-4796-8c12-fe061e235c8a",
   "metadata": {},
   "source": [
    "# Data Science Tools and Ecosystem"
   ]
  },
  {
   "cell_type": "markdown",
   "id": "67163837-2a60-4ea1-831d-23b86be06fab",
   "metadata": {},
   "source": [
    "This notebook aims to present the development of a final assignment that integrates essential skills in using Jupyter Notebook as a tool for data analysis."
   ]
  },
  {
   "cell_type": "markdown",
   "id": "3dcce854-53e0-4eac-bfc4-95d1dfe435fa",
   "metadata": {},
   "source": [
    "**Objetives**\n",
    "* Learn the popular languages for Data SCience\n",
    "* Learn the common libraries used by Data Scientist\n",
    "* Learn ariothmetics in Jupyter"
   ]
  },
  {
   "cell_type": "markdown",
   "id": "b486020e-3512-45c6-af6e-462da15f4996",
   "metadata": {},
   "source": [
    "Some of the popular languajes that Data Scientist use are:\n",
    "1. Python\n",
    "2. R\n",
    "3. SQL\n",
    "4. SAS\n",
    "5. JULIA\n",
    "6. SCALA\n",
    "7. JAVA"
   ]
  },
  {
   "cell_type": "markdown",
   "id": "5ef3b211-4853-4052-8ee3-e80168cdabb8",
   "metadata": {},
   "source": [
    "Some of the commonly used libraries used by Data Scientists include:\n",
    "1. Pandas\n",
    "2. Matplotlib\n",
    "3. Scikit-learn\n",
    "4. Numpy\n",
    "5. TensorFlow"
   ]
  },
  {
   "cell_type": "markdown",
   "id": "0ef33a75-dc06-4094-8a0c-ef385fc414d9",
   "metadata": {},
   "source": [
    "| Data Science Tools      |\n",
    "|--------------------------|\n",
    "| Jupyter Notebook         |\n",
    "| RStudio                  |\n",
    "| Apache Zeppelin          |"
   ]
  },
  {
   "cell_type": "markdown",
   "id": "522c5669-aabe-458b-b14b-a2ed7ad7fe0e",
   "metadata": {},
   "source": [
    "### Below are a few examples of evaluating arithmetic expressions in Python\n"
   ]
  },
  {
   "cell_type": "code",
   "execution_count": 32,
   "id": "eae79861-1623-41f1-a3fc-75c07bd3b109",
   "metadata": {},
   "outputs": [
    {
     "data": {
      "text/plain": [
       "17"
      ]
     },
     "execution_count": 32,
     "metadata": {},
     "output_type": "execute_result"
    }
   ],
   "source": [
    "# This is a simple arithmetic expression to multiply then \n",
    "# add integers\n",
    "(3*4)+5"
   ]
  },
  {
   "cell_type": "code",
   "execution_count": 34,
   "id": "f5636011-d95f-419a-9a9c-661a9d67f8ee",
   "metadata": {},
   "outputs": [
    {
     "data": {
      "text/plain": [
       "3.3333333333333335"
      ]
     },
     "execution_count": 34,
     "metadata": {},
     "output_type": "execute_result"
    }
   ],
   "source": [
    "# This wil convert 200 minutes to hours by dividing by 60\n",
    "200/60"
   ]
  },
  {
   "cell_type": "markdown",
   "id": "340d99a8-c432-4205-9cef-222b41712a65",
   "metadata": {},
   "source": [
    "## Autor\n",
    "David Orlando Romero Soto"
   ]
  },
  {
   "cell_type": "code",
   "execution_count": null,
   "id": "e3425e20-64e7-47e0-97af-ae86d51c0d35",
   "metadata": {},
   "outputs": [],
   "source": []
  }
 ],
 "metadata": {
  "kernelspec": {
   "display_name": "Python [conda env:base] *",
   "language": "python",
   "name": "conda-base-py"
  },
  "language_info": {
   "codemirror_mode": {
    "name": "ipython",
    "version": 3
   },
   "file_extension": ".py",
   "mimetype": "text/x-python",
   "name": "python",
   "nbconvert_exporter": "python",
   "pygments_lexer": "ipython3",
   "version": "3.11.9"
  }
 },
 "nbformat": 4,
 "nbformat_minor": 5
}
